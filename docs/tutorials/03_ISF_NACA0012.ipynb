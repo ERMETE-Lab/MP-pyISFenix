{
 "cells": [
  {
   "attachments": {},
   "cell_type": "markdown",
   "metadata": {},
   "source": [
    "# Flow over NACA0012-Hydrofoil\n",
    "This notebook implements the ISF algorithm to simulate inviscid fluids, governed by the incompressible Euler equations.\n",
    "The mesh is generated using the *gmsh* library for Python and the ISF differential problems are solved using FEniCSx, a Finite Element library."
   ]
  },
  {
   "cell_type": "code",
   "execution_count": 1,
   "metadata": {},
   "outputs": [
    {
     "name": "stdout",
     "output_type": "stream",
     "text": [
      "Info    : Reading 'mesh/naca0012_2d.geo'...\n",
      "Info    : Done reading 'mesh/naca0012_2d.geo'\n",
      "Info    : Meshing 1D...\n",
      "Info    : [  0%] Meshing curve 1 (Nurb)\n",
      "Info    : [ 20%] Meshing curve 2 (Nurb)\n",
      "Info    : [ 30%] Meshing curve 3 (Nurb)\n",
      "Info    : [ 40%] Meshing curve 4 (Nurb)\n",
      "Info    : [ 50%] Meshing curve 5 (Line)\n",
      "Info    : [ 70%] Meshing curve 6 (Line)\n",
      "Info    : [ 80%] Meshing curve 7 (Line)\n",
      "Info    : [ 90%] Meshing curve 8 (Line)\n",
      "Info    : Done meshing 1D (Wall 0.00190617s, CPU 0.008755s)\n",
      "Info    : Meshing 2D...\n",
      "Info    : Meshing surface 11 (Plane, Frontal-Delaunay)\n",
      "Info    : Done meshing 2D (Wall 0.894243s, CPU 1.03443s)\n",
      "Info    : 15891 nodes 31594 elements\n",
      "Info    : Optimizing mesh (Netgen)...\n",
      "Info    : Done optimizing mesh (Wall 3.23728e-06s, CPU 1.2e-05s)\n"
     ]
    }
   ],
   "source": [
    "import numpy as np\n",
    "from dolfinx.io.gmshio import model_to_mesh\n",
    "from mpi4py import MPI\n",
    "from dolfinx.io import XDMFFile\n",
    "from dolfinx import mesh\n",
    "\n",
    "import gmsh\n",
    "\n",
    "mesh_comm = MPI.COMM_WORLD\n",
    "model_rank = 0\n",
    "mesh_factor = 0.05\n",
    "\n",
    "# Initialize the gmsh module\n",
    "gmsh.initialize()\n",
    "\n",
    "# Load the .geo file\n",
    "gmsh.merge('mesh/naca0012_2d.geo')\n",
    "gmsh.model.geo.synchronize()\n",
    "\n",
    "# Set algorithm (adaptive = 1, Frontal-Delaunay = 6)\n",
    "gmsh.option.setNumber(\"Mesh.Algorithm\", 6)\n",
    "gmsh.option.setNumber(\"Mesh.MeshSizeFactor\", mesh_factor)\n",
    "gdim = 2\n",
    "\n",
    "# Linear Finite Element\n",
    "gmsh.model.mesh.generate(gdim)\n",
    "gmsh.model.mesh.optimize(\"Netgen\")"
   ]
  },
  {
   "attachments": {},
   "cell_type": "markdown",
   "metadata": {},
   "source": [
    "Loading the mesh"
   ]
  },
  {
   "cell_type": "code",
   "execution_count": 2,
   "metadata": {},
   "outputs": [],
   "source": [
    "# Import into dolfinx\n",
    "domain, _, ft = model_to_mesh(gmsh.model, MPI.COMM_WORLD, model_rank, gdim = gdim )\n",
    "\n",
    "ft.name = \"Facet markers\"\n",
    "boundary_markers = dict()\n",
    "boundary_markers['inlet']  = 10\n",
    "boundary_markers['outlet'] = 30\n",
    "boundary_markers['walls']  = 20\n",
    "\n",
    "domain_marker = 100\n",
    "\n",
    "# Finalize the gmsh module\n",
    "gmsh.finalize()"
   ]
  },
  {
   "attachments": {},
   "cell_type": "markdown",
   "metadata": {},
   "source": [
    "The ISF algorithm is based on the analogy between hydrodynamics and quantum mechinacs: in fact, it can be shown thta the Euler equations\n",
    "$$\n",
    "\\partial_t\\mathbf{u}=-\\left(\\mathbf{u}\\cdot \\nabla\\right)\\mathbf{u} -\\nabla p \\qquad \\text{ with } \\nabla \\cdot \\mathbf{u} = 0\n",
    "$$\n",
    "\n",
    "are equivalent to a 2-component wave function $\\Psi=[\\psi_1,\\psi_2]^T\\in\\mathbb{C}^2$, solution to Schrodinger equation\n",
    "$$\n",
    "i\\hbar \\partial_t \\Psi =- 0.5 \\cdot \\hbar^2 \\Delta \\Psi + p \\Psi\n",
    "$$\n",
    "\n",
    "and constrained to \n",
    "$$\n",
    "\\mathfrak{Re}\\left\\{\\left(\\Psi^T\\right)^*i\\,\\Delta\\Psi\\right\\} = 0\n",
    "$$\n",
    "\n",
    "The solution algorithm is divided into three main steps, at each time iteration:\n",
    "\n",
    " 1) Advection: through the free-particle Schrodinger\n",
    " 2) Pressure projection: Poisson problem to have a divergence free velocity\n",
    " 3) Phase shift"
   ]
  },
  {
   "cell_type": "code",
   "execution_count": 3,
   "metadata": {},
   "outputs": [],
   "source": [
    "import tqdm\n",
    "import os\n",
    "import numpy as np\n",
    "\n",
    "import matplotlib.pyplot as plt\n",
    "from matplotlib import rcParams\n",
    "from matplotlib import cm\n",
    "\n",
    "# If latex is not installed on your machine, comment these lines\n",
    "plt.rcParams.update({\n",
    "  \"text.usetex\": True,\n",
    "  \"font.family\": \"serif\"\n",
    "})\n",
    "\n",
    "rcParams['text.latex.preamble'] = r'\\usepackage{amssymb} \\usepackage{amsmath} \\usepackage{amsthm} \\usepackage{mathtools}'"
   ]
  },
  {
   "cell_type": "markdown",
   "metadata": {},
   "source": [
    "The steps of the algorithm are imported from the `src` folder."
   ]
  },
  {
   "cell_type": "code",
   "execution_count": 4,
   "metadata": {},
   "outputs": [],
   "source": [
    "import sys\n",
    "sys.path.append('../../.')\n",
    "\n",
    "from src.prediction import schrodinger\n",
    "from src.ISFvelocity import computeVelocity\n",
    "from src.projection import poisson, phaseShift"
   ]
  },
  {
   "attachments": {},
   "cell_type": "markdown",
   "metadata": {},
   "source": [
    "## Time Loop\n",
    "An inlet velocity $\\mathbf{u}_{in} = [1, 0]^T$ is used and the total simulation time is $T$, using a time step $\\Delta t = 10^{-2}$."
   ]
  },
  {
   "cell_type": "code",
   "execution_count": 5,
   "metadata": {},
   "outputs": [
    {
     "name": "stdout",
     "output_type": "stream",
     "text": [
      "Assembling Schrodinger predict\n",
      "Assembling Schrodinger velocity\n",
      "Assembling Poisson\n",
      "Assembling Schrodinger phase-shift\n"
     ]
    }
   ],
   "source": [
    "# Inlet velocity\n",
    "u_in = np.array([1., 0., 0.])\n",
    "\n",
    "# Time parameters\n",
    "T = 5.\n",
    "dt = 1e-2\n",
    "num_steps = int(T/dt)\n",
    "\n",
    "# Equivalent viscosity\n",
    "hbar = 0.075\n",
    "\n",
    "phys_parameters = {'uin': u_in,\n",
    "                   'hbar': hbar}\n",
    "\n",
    "# Degree of the polynomial for FEM - the Neumann BC at the outlet for step 2 either requires a finer mesh or degree_psi = 2\n",
    "degree_psi = 1\n",
    "\n",
    "### Assembling forms #####\n",
    "print('Assembling Schrodinger predict')\n",
    "step1 = schrodinger(domain, ft, boundary_marks=boundary_markers, degree_psi = degree_psi, c = np.array([.5 + 0 * 1j, .5 + 0 * 1j]))\n",
    "step1.assemble(phys_parameters, dt=dt)\n",
    "\n",
    "print('Assembling Schrodinger velocity')\n",
    "ISF_vel = computeVelocity(domain, degree_psi=degree_psi)\n",
    "ISF_vel.assemble(hbar)\n",
    "\n",
    "print('Assembling Poisson')\n",
    "step2 = poisson(domain, ft, boundary_marks=boundary_markers)\n",
    "bc_poisson_values = {'uin': u_in, 'is_dirichlet': True, 'fully_Neumann': False}\n",
    "step2.assemble(bc_poisson_values, gauss = False)\n",
    "\n",
    "print('Assembling Schrodinger phase-shift')\n",
    "step3 = phaseShift(domain, degree_psi = degree_psi)\n",
    "step3.assemble(hbar)\n",
    "\n",
    "##### Store solution #####\n",
    "path = './Results/'\n",
    "if not os.path.exists(path):\n",
    "    os.system(\"mkdir \"+path)\n",
    "path = './Results/NACA/'\n",
    "if not os.path.exists(path):\n",
    "    os.system(\"mkdir \"+path)\n",
    "    \n",
    "psi1_xdmf = XDMFFile(domain.comm, path+\"psi1.xdmf\", \"w\")\n",
    "psi2_xdmf = XDMFFile(domain.comm, path+\"psi2.xdmf\", \"w\")\n",
    "p_xdmf = XDMFFile(domain.comm, path+\"p.xdmf\", \"w\")\n",
    "u_xdmf = XDMFFile(domain.comm, path+\"U.xdmf\", \"w\")\n",
    "\n",
    "p_xdmf.write_mesh(domain)\n",
    "psi1_xdmf.write_mesh(domain)\n",
    "psi2_xdmf.write_mesh(domain)\n",
    "u_xdmf.write_mesh(domain)"
   ]
  },
  {
   "attachments": {},
   "cell_type": "markdown",
   "metadata": {},
   "source": [
    "Let us solve the transient."
   ]
  },
  {
   "cell_type": "code",
   "execution_count": 6,
   "metadata": {},
   "outputs": [
    {
     "name": "stderr",
     "output_type": "stream",
     "text": [
      "Advancing in time:   0%|          | 0/50 [00:00<?, ?it/s]"
     ]
    },
    {
     "name": "stderr",
     "output_type": "stream",
     "text": [
      "Advancing in time: 100%|██████████| 50/50 [02:33<00:00,  3.05s/it]"
     ]
    }
   ],
   "source": [
    "from dolfinx import common\n",
    "\n",
    "# Sampling rate to store the data\n",
    "LL = 10\n",
    "\n",
    "steps = [\"1a\", \"1b\", \"1c\", \"2 \", \"3a\", \"3a\"]\n",
    "t_steps = list()\n",
    "progress = tqdm.tqdm(desc=\"Advancing in time\", total=num_steps)\n",
    "\n",
    "for nn in range(num_steps):\n",
    "\n",
    "    ## Step 1a: advection\n",
    "    with common.Timer(\"~Step 1a\"):\n",
    "        # psi1_adv, psi2_adv = step1.advect(temperature=particles.Told)\n",
    "        psi1_adv, psi2_adv = step1.advect(temperature=None)\n",
    "\n",
    "    ## Step 1b: normalisation\n",
    "    with common.Timer(\"~Step 1b\"):\n",
    "        PsiTilde_1 = psi1_adv.copy()\n",
    "        PsiTilde_2 = psi2_adv.copy()\n",
    "        norm = np.sqrt(np.conj(psi1_adv.x.array[:]) * psi1_adv.x.array[:] + np.conj(psi2_adv.x.array[:]) * psi2_adv.x.array[:])\n",
    "        PsiTilde_1.x.array[:] = psi1_adv.x.array[:] / norm.real\n",
    "        PsiTilde_2.x.array[:] = psi2_adv.x.array[:] / norm.real\n",
    "\n",
    "    ## Step 1c: compute non-solenoidal velocity\n",
    "    with common.Timer(\"~Step 1c\"):\n",
    "        uTilde = ISF_vel.solve(PsiTilde_1, PsiTilde_2)\n",
    "\n",
    "    ## Step 2: pressure projection\n",
    "    with common.Timer(\"~Step 2 \"):\n",
    "        pressure = step2.solve(uTilde)\n",
    "\n",
    "    ## Step 3a: phase shift\n",
    "    with common.Timer(\"~Step 3a\"):\n",
    "        Psi_1, Psi_2 = step3.solve(PsiTilde_1, PsiTilde_2, pressure)\n",
    "\n",
    "    ## Step 3b: compute new velocity\n",
    "    with common.Timer(\"~Step 3b\"):\n",
    "        u_new = ISF_vel.solve(Psi_1, Psi_2)\n",
    "\n",
    "    if np.isclose((nn+1) % LL, 0):\n",
    "        pressure.name = \"p\"\n",
    "        Psi_1.name = \"psi_1\"\n",
    "        Psi_2.name = \"psi_2\"\n",
    "        u_new.name = \"U\"\n",
    "        p_xdmf.write_function(pressure, (nn+1) * dt)\n",
    "        psi1_xdmf.write_function(Psi_1, (nn+1) * dt)\n",
    "        psi2_xdmf.write_function(Psi_2, (nn+1) * dt)\n",
    "        u_xdmf.write_function(u_new, (nn+1) * dt)\n",
    "\n",
    "    # Update Old\n",
    "    with Psi_1.vector.localForm() as loc_, step1.psi1_old.vector.localForm() as loc_n:\n",
    "        loc_.copy(loc_n)\n",
    "    with Psi_2.vector.localForm() as loc_, step1.psi2_old.vector.localForm() as loc_n:\n",
    "        loc_.copy(loc_n)\n",
    "\n",
    "    t_steps.append(list())\n",
    "    for step in steps:\n",
    "        t_steps[nn].append(mesh_comm.gather(common.timing(\"~Step \"+step), root=0))\n",
    "        \n",
    "    progress.update(1)\n",
    "    \n",
    "p_xdmf.close()\n",
    "psi1_xdmf.close()\n",
    "psi2_xdmf.close()\n",
    "u_xdmf.close()"
   ]
  },
  {
   "cell_type": "markdown",
   "metadata": {},
   "source": [
    "In the end, let us print the time required by each step during the simulation"
   ]
  },
  {
   "cell_type": "code",
   "execution_count": 7,
   "metadata": {},
   "outputs": [
    {
     "name": "stdout",
     "output_type": "stream",
     "text": [
      "Time-step breakdown\n",
      "Step 1a: Min time: 5.026e-01, Max time: 5.298e-01\n",
      "Step 1b: Min time: 1.628e-03, Max time: 1.942e-03\n",
      "Step 1c: Min time: 9.038e-02, Max time: 1.071e-01\n",
      "Step 2 : Min time: 2.246e+00, Max time: 2.332e+00\n",
      "Step 3a: Min time: 9.520e-02, Max time: 1.049e-01\n",
      "Step 3a: Min time: 9.520e-02, Max time: 1.049e-01\n"
     ]
    }
   ],
   "source": [
    "if mesh_comm.rank == 0:\n",
    "    print(\"Time-step breakdown\")\n",
    "    step_arr = np.asarray(t_steps)\n",
    "    time_per_run = step_arr[:, :, 0, 1] / step_arr[:, :, 0, 0]\n",
    "        \n",
    "    for jj, step in enumerate(steps):\n",
    "                print(f\"Step \"+step+f\": Min time: {np.min(time_per_run[:, jj]):.3e}, Max time: {np.max(time_per_run[:, jj]):.3e}\")"
   ]
  }
 ],
 "metadata": {
  "kernelspec": {
   "display_name": "fe-complex",
   "language": "python",
   "name": "python3"
  },
  "language_info": {
   "codemirror_mode": {
    "name": "ipython",
    "version": 3
   },
   "file_extension": ".py",
   "mimetype": "text/x-python",
   "name": "python",
   "nbconvert_exporter": "python",
   "pygments_lexer": "ipython3",
   "version": "3.10.10"
  },
  "orig_nbformat": 4
 },
 "nbformat": 4,
 "nbformat_minor": 2
}
