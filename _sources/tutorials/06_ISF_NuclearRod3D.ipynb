{
 "cells": [
  {
   "cell_type": "markdown",
   "metadata": {},
   "source": [
    "# Nuclear Channel\n",
    "This notebook implements the ISF algorithm to simulate inviscid fluids.\n",
    "The mesh is generated with gmsh and loaded in Python within the FEniCSx framework."
   ]
  },
  {
   "cell_type": "code",
   "execution_count": 1,
   "metadata": {},
   "outputs": [
    {
     "name": "stdout",
     "output_type": "stream",
     "text": [
      "Info    : Reading 'mesh/nucchannel_gmsh.msh'...\n",
      "Info    : 88 entities\n",
      "Info    : 40475 nodes\n",
      "Info    : 219289 elements\n",
      "Info    : Done reading 'mesh/nucchannel_gmsh.msh'                          \n"
     ]
    }
   ],
   "source": [
    "import numpy as np\n",
    "from dolfinx.io.gmshio import model_to_mesh, read_from_msh\n",
    "from mpi4py import MPI\n",
    "from dolfinx.io import XDMFFile\n",
    "from dolfinx import mesh\n",
    "\n",
    "from IPython.display import clear_output\n",
    "\n",
    "import gmsh\n",
    "from petsc4py import PETSc\n",
    "\n",
    "mesh_comm = MPI.COMM_WORLD\n",
    "model_rank = 0\n",
    "mesh_factor = 0.035\n",
    "use_msh = True\n",
    "gdim = 3\n",
    "\n",
    "if use_msh:\n",
    "    domain, ct, ft = read_from_msh(\"mesh/nucchannel_gmsh.msh\", comm=mesh_comm, rank=model_rank, gdim = gdim)\n",
    "else:\n",
    "    # Initialize the gmsh module\n",
    "    gmsh.initialize()\n",
    "\n",
    "    # Load the .geo file\n",
    "    gmsh.merge('mesh/nucchannel_gmsh.geo')\n",
    "    gmsh.model.geo.synchronize()\n",
    "\n",
    "    # Set algorithm (adaptive = 1, Frontal-Delaunay = 6)\n",
    "    gmsh.option.setNumber(\"Mesh.Algorithm\", 6)\n",
    "    gmsh.option.setNumber(\"Mesh.MeshSizeFactor\", mesh_factor)\n",
    "\n",
    "    # Linear Finite Element\n",
    "    gmsh.model.mesh.generate(gdim)\n",
    "    gmsh.model.mesh.optimize(\"Netgen\")\n",
    "\n",
    "    clear_output()\n",
    "\n",
    "    # gmsh.write('mesh/nucchannel_gmsh.vtk')\n",
    "    gmsh.write('mesh/nucchannel_gmsh.msh')\n",
    "    \n",
    "    domain, _, ft = model_to_mesh(gmsh.model, MPI.COMM_WORLD, model_rank, gdim = gdim )\n",
    "    gmsh.finalize()"
   ]
  },
  {
   "cell_type": "markdown",
   "metadata": {},
   "source": [
    "Let us define the boundary markers"
   ]
  },
  {
   "cell_type": "code",
   "execution_count": 2,
   "metadata": {},
   "outputs": [
    {
     "name": "stdout",
     "output_type": "stream",
     "text": [
      "(40475, 3)\n"
     ]
    }
   ],
   "source": [
    "ft.name = \"Facet markers\"\n",
    "\n",
    "boundary_markers = dict()\n",
    "boundary_markers['inlet']            = 100\n",
    "boundary_markers['outlet']           = 110\n",
    "boundary_markers['lateral_walls']    = 120\n",
    "boundary_markers['control_rod']      = 130\n",
    "boundary_markers['top_right_nuc']    = 140\n",
    "boundary_markers['top_left_nuc']     = 150\n",
    "boundary_markers['bottom_left_nuc']  = 160\n",
    "boundary_markers['bottom_right_nuc'] = 170\n",
    "\n",
    "domain_marker = 1000\n",
    "\n",
    "print(domain.geometry.x.shape)"
   ]
  },
  {
   "cell_type": "markdown",
   "metadata": {},
   "source": [
    "The ISF algorithm is based on the analogy between hydrodynamics and quantum mechinacs: in fact, it can be shown thta the Euler equations\n",
    "\\begin{equation}\n",
    "\\partial_t\\mathbf{u}=-\\left(\\mathbf{u}\\cdot \\nabla\\right)\\mathbf{u} -\\nabla p +\\mathbf{g} \\qquad \\text{ with } \\nabla \\cdot \\mathbf{u} = 0\n",
    "\\end{equation}\n",
    "are equivalent to a 2-component wave function $\\Psi=[\\psi_1,\\psi_2]^T\\in\\mathbb{C}^2$, solution to Schrodinger equation\n",
    "\\begin{equation}\n",
    "i\\hbar \\partial_t \\Psi =- 0.5 \\cdot \\hbar^2 \\Delta \\Psi + p \\Psi + \\mathbb{G}\\cdot \\Psi\n",
    "\\end{equation}\n",
    "and constrained to \n",
    "\\begin{equation}\n",
    "\\mathfrak{Re}\\left\\{\\left(\\Psi^T\\right)^*i\\,\\Delta\\Psi\\right\\} = 0\n",
    "\\end{equation}\n",
    "\n",
    "The solution algorithm is divided into three main steps, at each time iteration:\n",
    "\n",
    " 1) Advection: through the free-particle Schrodinger\n",
    " 2) Pressure projection: Poisson problem to have a divergence free velocity\n",
    " 3) Phase shift\n",
    " 4) Solution of other physics (e.g., temperature advection-diffusion)"
   ]
  },
  {
   "cell_type": "code",
   "execution_count": 3,
   "metadata": {},
   "outputs": [],
   "source": [
    "import tqdm\n",
    "import os\n",
    "\n",
    "import sys\n",
    "sys.path.append('/home/paolo/Github/ISF-dev/.')\n",
    "\n",
    "from src.prediction import schrodinger\n",
    "from src.ISFvelocity import computeVelocity\n",
    "from src.projection import poisson, phaseShift\n",
    "from src.scalar_adv_diff import adv_diffusion"
   ]
  },
  {
   "cell_type": "markdown",
   "metadata": {},
   "source": [
    "## Time Loop\n",
    "An inlet velocity $\\mathbf{u}_{in}$ is used and the total simulation time is $T$."
   ]
  },
  {
   "cell_type": "code",
   "execution_count": 4,
   "metadata": {},
   "outputs": [
    {
     "name": "stdout",
     "output_type": "stream",
     "text": [
      "Assembling Schrodinger predict\n",
      "Assembling Schrodinger velocity\n",
      "Assembling Poisson\n",
      "Assembling Schrodinger phase-shift\n"
     ]
    }
   ],
   "source": [
    "# Inlet velocity\n",
    "u_in = np.array([0, 0., 1.])\n",
    "\n",
    "# Time parameters\n",
    "T = 4.\n",
    "dt = 1e-2\n",
    "num_steps = int(T/dt)\n",
    "\n",
    "# Equivalent viscosity\n",
    "hbar = 0.05\n",
    "\n",
    "# Assigning physical paramemeters\n",
    "phys_parameters = {'uin': u_in, 'hbar': hbar}\n",
    "gravity_dict = {'gravity': np.array([0, 0., -9.81]), 'beta': 0.5, 'Tref': 0} \n",
    "\n",
    "# Degree of the polynomial for FEM - the Neumann BC at the outlet for step 2 either requires a finer mesh or degree_psi = 2\n",
    "degree_psi = 1\n",
    "\n",
    "### Assembling forms #####\n",
    "print('Assembling Schrodinger predict')\n",
    "step1 = schrodinger(domain, ft, boundary_marks=boundary_markers, degree_psi = degree_psi, c = np.array([1 + 0 * 1j, .1 + 0 * 1j]))\n",
    "step1.assemble(phys_parameters, dt=dt, gravity_dict=gravity_dict)\n",
    "\n",
    "print('Assembling Schrodinger velocity')\n",
    "ISF_vel = computeVelocity(domain, degree_psi=degree_psi)\n",
    "ISF_vel.assemble(hbar)\n",
    "\n",
    "print('Assembling Poisson')\n",
    "step2 = poisson(domain, ft, boundary_marks=boundary_markers)\n",
    "bc_poisson_values = {'uin': u_in, 'fully_Neumann': False, 'is_dirichlet': True}\n",
    "step2.assemble(bc_poisson_values, gauss = True)\n",
    "\n",
    "print('Assembling Schrodinger phase-shift')\n",
    "step3 = phaseShift(domain, degree_psi = degree_psi)\n",
    "step3.assemble(hbar)\n",
    "\n",
    "##### Store solution #####\n",
    "path = 'Results/NuclearRod/'\n",
    "if not os.path.exists(path):\n",
    "    os.system(\"mkdir \"+path)\n",
    "    \n",
    "psi1_xdmf = XDMFFile(domain.comm, path+\"psi1.xdmf\", \"w\")\n",
    "psi2_xdmf = XDMFFile(domain.comm, path+\"psi2.xdmf\", \"w\")\n",
    "p_xdmf = XDMFFile(domain.comm, path+\"p.xdmf\", \"w\")\n",
    "u_xdmf = XDMFFile(domain.comm, path+\"U.xdmf\", \"w\")\n",
    "\n",
    "psi1_xdmf.write_mesh(domain)\n",
    "psi2_xdmf.write_mesh(domain)\n",
    "p_xdmf.write_mesh(domain)\n",
    "u_xdmf.write_mesh(domain)\n",
    "\n",
    "save_tilde = False\n",
    "if save_tilde:\n",
    "    psi1_Tilde_xdmf = XDMFFile(domain.comm, path+\"psi1_tilde.xdmf\", \"w\")\n",
    "    psi2_Tilde_xdmf = XDMFFile(domain.comm, path+\"psi2_tilde.xdmf\", \"w\")\n",
    "    psi1_Tilde_xdmf.write_mesh(domain)\n",
    "    psi2_Tilde_xdmf.write_mesh(domain)"
   ]
  },
  {
   "cell_type": "markdown",
   "metadata": {},
   "source": [
    "The advection diffusion equation reads\n",
    "\\begin{equation}\n",
    "\\frac{\\partial T}{\\partial t} + \\mathbf{u}\\cdot \\nabla T - \\alpha \\Delta T =0\n",
    "\\end{equation}"
   ]
  },
  {
   "cell_type": "code",
   "execution_count": 5,
   "metadata": {},
   "outputs": [],
   "source": [
    "temperature_bound_marks = {\n",
    "    'dirichlet' : dict(),\n",
    "    'neumann'   : dict(),\n",
    "    'robin'     : None\n",
    "}\n",
    "\n",
    "# Define class for passive scalar transport\n",
    "_names = {'dirichlet': ['inlet', 'control_rod'],\n",
    "          'neumann': ['top_right_nuc', 'top_left_nuc', 'bottom_left_nuc', 'bottom_right_nuc']}\n",
    "for key in list(_names.keys()):\n",
    "    for name in _names[key]:\n",
    "        temperature_bound_marks[key][name] = boundary_markers[name]\n",
    "\n",
    "particles = adv_diffusion(domain, ft, temperature_bound_marks)\n",
    "\n",
    "bc_values = {'dirichlet': dict(), 'neumann': dict()}\n",
    "\n",
    "# Define boundaries values\n",
    "assigned_temperatures = [1, 0.5]\n",
    "for ii in range(len(assigned_temperatures)):\n",
    "    bc_values['dirichlet'][_names['dirichlet'][ii]] = PETSc.ScalarType(assigned_temperatures[ii])\n",
    "\n",
    "assigned_heat_flux = [-0.05, -0.025, 0.03, 0.015]\n",
    "for ii in range(len(assigned_heat_flux)):\n",
    "    bc_values['neumann'][_names['neumann'][ii]] = PETSc.ScalarType(assigned_heat_flux[ii])\n",
    "    \n",
    "# Assembling the differential problem\n",
    "particles.assemble(bc_values, dt = dt, alpha = 5e-4, T_0=gravity_dict['Tref'])\n",
    "\n",
    "# Create file for storage\n",
    "T_xdmf = XDMFFile(domain.comm, path+\"T.xdmf\", \"w\")\n",
    "T_xdmf.write_mesh(domain)"
   ]
  },
  {
   "cell_type": "markdown",
   "metadata": {},
   "source": [
    "Let us solve the transient."
   ]
  },
  {
   "cell_type": "code",
   "execution_count": 7,
   "metadata": {},
   "outputs": [
    {
     "name": "stderr",
     "output_type": "stream",
     "text": [
      "Advancing in time:   5%|▍         | 19/400 [04:53<6:49:34, 64.50s/it]"
     ]
    }
   ],
   "source": [
    "from dolfinx import common\n",
    "\n",
    "# Sampling rate to store the data\n",
    "LL = 10\n",
    "\n",
    "steps = [\"1a\", \"1b\", \"1c\", \"2 \", \"3a\", \"3b\", \"4\"]\n",
    "t_steps = list()\n",
    "progress = tqdm.tqdm(desc=\"Advancing in time\", total=num_steps)\n",
    "\n",
    "for nn in range(num_steps):\n",
    "\n",
    "    ## Step 1a: advection\n",
    "    with common.Timer(\"~Step 1a\"):\n",
    "        \n",
    "        if np.isclose(gravity_dict['beta'], 0):\n",
    "            psi1_adv, psi2_adv = step1.advect() \n",
    "        else:\n",
    "            psi1_adv, psi2_adv = step1.advect(temperature=particles.Told)\n",
    "\n",
    "    ## Step 1b: normalisation\n",
    "    with common.Timer(\"~Step 1b\"):\n",
    "        PsiTilde_1 = psi1_adv.copy()\n",
    "        PsiTilde_2 = psi2_adv.copy()\n",
    "        norm = np.sqrt(np.conj(psi1_adv.x.array[:]) * psi1_adv.x.array[:] + np.conj(psi2_adv.x.array[:]) * psi2_adv.x.array[:])\n",
    "        PsiTilde_1.x.array[:] = psi1_adv.x.array[:] / norm.real\n",
    "        PsiTilde_2.x.array[:] = psi2_adv.x.array[:] / norm.real\n",
    "\n",
    "    ## Step 1c: compute non-solenoidal velocity\n",
    "    with common.Timer(\"~Step 1c\"):\n",
    "        uTilde = ISF_vel.solve(PsiTilde_1, PsiTilde_2)\n",
    "\n",
    "    ## Step 2: pressure projection\n",
    "    with common.Timer(\"~Step 2 \"):\n",
    "        pressure = step2.solve(uTilde)\n",
    "\n",
    "    ## Step 3a: phase shift\n",
    "    with common.Timer(\"~Step 3a\"):\n",
    "        Psi_1, Psi_2 = step3.solve(PsiTilde_1, PsiTilde_2, pressure)\n",
    "\n",
    "    ## Step 3b: compute new velocity\n",
    "    with common.Timer(\"~Step 3b\"):\n",
    "        u_new = ISF_vel.solve(Psi_1, Psi_2)\n",
    "\n",
    "    ## Step 4: Temperature advection-diffusion\n",
    "    with common.Timer(\"~Step 4\"):\n",
    "        T_new = particles.solve(u_new)\n",
    "\n",
    "    if np.isclose((nn+1) % LL, 0):\n",
    "        pressure.name = \"p\"\n",
    "        Psi_1.name = \"psi_1\"\n",
    "        Psi_2.name = \"psi_2\"\n",
    "        u_new.name = \"U\"\n",
    "        T_new.name = \"T\"\n",
    "        p_xdmf.write_function(pressure, (nn+1) * dt)\n",
    "        psi1_xdmf.write_function(Psi_1, (nn+1) * dt)\n",
    "        psi2_xdmf.write_function(Psi_2, (nn+1) * dt)\n",
    "        u_xdmf.write_function(u_new, (nn+1) * dt)\n",
    "        T_xdmf.write_function(T_new, (nn+1) * dt)\n",
    "        \n",
    "        if save_tilde:\n",
    "            psi1_Tilde_xdmf.write_function(PsiTilde_1, (nn+1) * dt)\n",
    "            psi2_Tilde_xdmf.write_function(PsiTilde_2, (nn+1) * dt)\n",
    "\n",
    "    # Update Old\n",
    "    with Psi_1.vector.localForm() as loc_, step1.psi1_old.vector.localForm() as loc_n:\n",
    "        loc_.copy(loc_n)\n",
    "    with Psi_2.vector.localForm() as loc_, step1.psi2_old.vector.localForm() as loc_n:\n",
    "        loc_.copy(loc_n)\n",
    "\n",
    "    t_steps.append(list())\n",
    "    for step in steps:\n",
    "        t_steps[nn].append(mesh_comm.gather(common.timing(\"~Step \"+step), root=0))\n",
    "        \n",
    "    progress.update(1)\n",
    "    \n",
    "p_xdmf.close()\n",
    "psi1_xdmf.close()\n",
    "psi2_xdmf.close()\n",
    "u_xdmf.close()\n",
    "T_xdmf.close()\n",
    "\n",
    "if save_tilde:\n",
    "    psi1_Tilde_xdmf.close()\n",
    "    psi2_Tilde_xdmf.close()\n",
    "\n",
    "del progress"
   ]
  },
  {
   "cell_type": "markdown",
   "metadata": {},
   "source": [
    "In the end, let us print the time required by each step during the simulation"
   ]
  },
  {
   "cell_type": "code",
   "execution_count": null,
   "metadata": {},
   "outputs": [
    {
     "name": "stdout",
     "output_type": "stream",
     "text": [
      "Time-step breakdown\n",
      "Step 1a: Min time: 6.168e-01, Max time: 6.399e-01\n",
      "Step 1b: Min time: 2.409e-03, Max time: 2.770e-03\n",
      "Step 1c: Min time: 7.203e-01, Max time: 8.996e-01\n",
      "Step 2 : Min time: 8.623e-01, Max time: 9.457e-01\n",
      "Step 3a: Min time: 6.385e-01, Max time: 7.601e-01\n",
      "Step 3a: Min time: 6.385e-01, Max time: 7.601e-01\n"
     ]
    }
   ],
   "source": [
    "if mesh_comm.rank == 0:\n",
    "    print(\"Time-step breakdown\")\n",
    "    step_arr = np.asarray(t_steps)\n",
    "    time_per_run = step_arr[:, :, 0, 1] / step_arr[:, :, 0, 0]\n",
    "        \n",
    "    for jj, step in enumerate(steps):\n",
    "                print(f\"Step \"+step+f\": Min time: {np.min(time_per_run[:, jj]):.3e}, Max time: {np.max(time_per_run[:, jj]):.3e}\")"
   ]
  }
 ],
 "metadata": {
  "kernelspec": {
   "display_name": "mp",
   "language": "python",
   "name": "python3"
  },
  "language_info": {
   "codemirror_mode": {
    "name": "ipython",
    "version": 3
   },
   "file_extension": ".py",
   "mimetype": "text/x-python",
   "name": "python",
   "nbconvert_exporter": "python",
   "pygments_lexer": "ipython3",
   "version": "3.10.13"
  }
 },
 "nbformat": 4,
 "nbformat_minor": 2
}
